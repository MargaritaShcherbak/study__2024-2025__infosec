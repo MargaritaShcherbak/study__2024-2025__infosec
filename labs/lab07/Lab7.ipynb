{
  "nbformat": 4,
  "nbformat_minor": 0,
  "metadata": {
    "colab": {
      "provenance": []
    },
    "kernelspec": {
      "name": "python3",
      "display_name": "Python 3"
    },
    "language_info": {
      "name": "python"
    }
  },
  "cells": [
    {
      "cell_type": "code",
      "execution_count": 1,
      "metadata": {
        "colab": {
          "base_uri": "https://localhost:8080/"
        },
        "id": "QuAkCpDNOIHH",
        "outputId": "b4cd4f1c-ac11-4f0d-f8fa-dd9915153b88"
      },
      "outputs": [
        {
          "output_type": "stream",
          "name": "stdout",
          "text": [
            "Сгенерированный ключ: 96ipbNClShVP4wY4for9du\n",
            "Шифротекст: И\u0016ѴюѐЅѿLріѢѮЈ[yЀЦЬхѵЫT\n",
            "Расшифрованный текст: С Новым Годом, друзья!\n",
            "Восстановленный ключ: 96ipbNClShVP4wY4for9du\n"
          ]
        }
      ],
      "source": [
        "import random\n",
        "from random import seed\n",
        "import string\n",
        "\n",
        "# Функция для шифрования и дешифрования текста с использованием гаммирования\n",
        "def xor_text_f(text, key):\n",
        "    # Проверяем, что длины текста и ключа совпадают\n",
        "    if len(key) != len(text):\n",
        "        return \"Ошибка: Ключ и текст разной длины\"\n",
        "\n",
        "    xor_text = ''\n",
        "\n",
        "    for i in range(len(key)):\n",
        "        # Выполняем операцию XOR для каждого символа текста и соответствующего символа ключа\n",
        "        xor_text_symbol = ord(text[i]) ^ ord(key[i])\n",
        "        # Преобразуем результат обратно в символ\n",
        "        xor_text += chr(xor_text_symbol)\n",
        "\n",
        "    return xor_text\n",
        "\n",
        "# Ввод исходного текста\n",
        "text = \"С Новым Годом, друзья!\"\n",
        "\n",
        "# Создание ключа\n",
        "key = ''\n",
        "# Инициализация генератора случайных чисел для воспроизводимости\n",
        "seed(22)\n",
        "\n",
        "# Генерация ключа той же длины, что и текст\n",
        "for i in range(len(text)):\n",
        "    key += random.choice(string.ascii_letters + string.digits)\n",
        "\n",
        "print(f'Сгенерированный ключ: {key}')\n",
        "\n",
        "# Получение шифротекста с использованием функции xor_text_f\n",
        "xor_text = xor_text_f(text, key)\n",
        "print(f'Шифротекст: {xor_text}')\n",
        "\n",
        "# Дешифрование шифротекста для получения исходного текста\n",
        "decrypted_text = xor_text_f(xor_text, key)\n",
        "print(f'Расшифрованный текст: {decrypted_text}')\n",
        "\n",
        "# Получение ключа из текста\n",
        "# можем расшифровать исходный текст, чтобы получить ключ\n",
        "# но в реальности такой метод не является безопасным\n",
        "recovered_key = xor_text_f(text, xor_text)\n",
        "print(f'Восстановленный ключ: {recovered_key}')\n"
      ]
    }
  ]
}