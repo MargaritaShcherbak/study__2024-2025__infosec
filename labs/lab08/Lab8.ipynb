{
  "nbformat": 4,
  "nbformat_minor": 0,
  "metadata": {
    "colab": {
      "provenance": []
    },
    "kernelspec": {
      "name": "python3",
      "display_name": "Python 3"
    },
    "language_info": {
      "name": "python"
    }
  },
  "cells": [
    {
      "cell_type": "code",
      "execution_count": 1,
      "metadata": {
        "colab": {
          "base_uri": "https://localhost:8080/"
        },
        "id": "QuAkCpDNOIHH",
        "outputId": "227a6e35-3fa5-40bd-8049-9ba84c0a03ed"
      },
      "outputs": [
        {
          "output_type": "stream",
          "name": "stdout",
          "text": [
            "Шифротекст C1: b'\\xf39H\\xbd\\x90|8\\x86`-\\xcb\\xc3|\\xa3\\xcc\\n\\xe3\\x9f'\n",
            "Шифротекст C2: b'\\xe3vJ\\xfc\\x9div\\xd2{b\\x89\\xc49\\xeb\\xc5\\x1b\\xe3\\x96\\x17'\n",
            "Дешифрованный текст P1: I want to be happy\n",
            "Дешифрованный текст P2: You can to be happy\n"
          ]
        }
      ],
      "source": [
        "import os\n",
        "\n",
        "def generate_key(length):\n",
        "    \"\"\"Функция для генерации ключа заданной длины.\"\"\"\n",
        "    return os.urandom(length)  # Возвращает случайный ключ в виде байтов\n",
        "\n",
        "def encrypt(plaintext, key):\n",
        "    \"\"\"Функция для шифрования текста с использованием ключа.\"\"\"\n",
        "    return bytes(a ^ b for a, b in zip(plaintext.encode(), key))\n",
        "    # XOR (исключающее ИЛИ) каждого байта текста с соответствующим байтом ключа\n",
        "\n",
        "def decrypt(ciphertext, key):\n",
        "    \"\"\"Функция для дешифрования текста с использованием ключа.\"\"\"\n",
        "    return bytes(a ^ b for a, b in zip(ciphertext, key)).decode()\n",
        "    # XOR шифротекста с ключом и декодирование результата в строку\n",
        "\n",
        "# Примеры использования\n",
        "P1 = \"I want to be happy\"\n",
        "P2 = \"You can to be happy\"\n",
        "\n",
        "# Генерация ключа\n",
        "key_length = max(len(P1), len(P2))  # Определяем длину ключа как максимальную длину из двух текстов\n",
        "key = generate_key(key_length)  # Генерируем ключ заданной длины\n",
        "\n",
        "# Шифрование\n",
        "C1 = encrypt(P1, key)\n",
        "C2 = encrypt(P2, key)\n",
        "\n",
        "# Вывод шифротекстов\n",
        "print(\"Шифротекст C1:\", C1)\n",
        "print(\"Шифротекст C2:\", C2)\n",
        "\n",
        "# Дешифровка\n",
        "decrypted_P1 = decrypt(C1, key)\n",
        "decrypted_P2 = decrypt(C2, key)\n",
        "\n",
        "# Выводим расшифрованные тексты\n",
        "print(\"Дешифрованный текст P1:\", decrypted_P1)\n",
        "print(\"Дешифрованный текст P2:\", decrypted_P2)\n"
      ]
    }
  ]
}