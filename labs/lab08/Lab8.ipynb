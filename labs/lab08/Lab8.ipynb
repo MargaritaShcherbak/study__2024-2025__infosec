{
  "nbformat": 4,
  "nbformat_minor": 0,
  "metadata": {
    "colab": {
      "provenance": []
    },
    "kernelspec": {
      "name": "python3",
      "display_name": "Python 3"
    },
    "language_info": {
      "name": "python"
    }
  },
  "cells": [
    {
      "cell_type": "code",
      "execution_count": 6,
      "metadata": {
        "colab": {
          "base_uri": "https://localhost:8080/"
        },
        "id": "QuAkCpDNOIHH",
        "outputId": "b276a2e4-87be-4a31-a32b-fd9029d9dc81"
      },
      "outputs": [
        {
          "output_type": "stream",
          "name": "stdout",
          "text": [
            "Шифротекст C1: b'\\xa1\\x07\\x81cr\\x1bc9\\xf2\\xa0,t\\xa8\\xbb\\xdb\\xd2\\x19A'\n",
            "Шифротекст C2: b'\\xb1H\\x83\"\\x7f\\x0e-m\\xe9\\xefns\\xed\\xf3\\xd2\\xc3\\x19H\\xe2'\n",
            "Дешифрованный текст P1: I want to be happy\n",
            "Дешифрованный текст P2: You can to be happy\n"
          ]
        }
      ],
      "source": [
        "import os  # Импортируем модуль os для генерации случайных байтов\n",
        "\n",
        "def generate_key(length):\n",
        "    \"\"\"Функция для генерации ключа заданной длины.\"\"\"\n",
        "    return os.urandom(length)  # Возвращает случайный ключ в виде байтов\n",
        "\n",
        "def encrypt(plaintext, key):\n",
        "    \"\"\"Функция для шифрования текста с использованием ключа.\"\"\"\n",
        "    return bytes(a ^ b for a, b in zip(plaintext.encode(), key))\n",
        "    # XOR (исключающее ИЛИ) каждого байта текста с соответствующим байтом ключа\n",
        "\n",
        "def decrypt(ciphertext, key):\n",
        "    \"\"\"Функция для дешифрования текста с использованием ключа.\"\"\"\n",
        "    return bytes(a ^ b for a, b in zip(ciphertext, key)).decode()\n",
        "    # XOR шифротекста с ключом и декодирование результата в строку\n",
        "\n",
        "# Примеры использования\n",
        "P1 = \"I want to be happy\"  # Первый текст для шифрования\n",
        "P2 = \"You can to be happy\"  # Второй текст для шифрования\n",
        "\n",
        "# Генерация ключа\n",
        "key_length = max(len(P1), len(P2))  # Определяем длину ключа как максимальную длину из двух текстов\n",
        "key = generate_key(key_length)  # Генерируем ключ заданной длины\n",
        "\n",
        "# Шифрование\n",
        "C1 = encrypt(P1, key)  # Шифруем первый текст\n",
        "C2 = encrypt(P2, key)  # Шифруем второй текст\n",
        "\n",
        "# Вывод шифротекстов\n",
        "print(\"Шифротекст C1:\", C1)  # Выводим шифротекст первого текста\n",
        "print(\"Шифротекст C2:\", C2)  # Выводим шифротекст второго текста\n",
        "\n",
        "# Дешифровка\n",
        "decrypted_P1 = decrypt(C1, key)  # Дешифруем первый шифротекст\n",
        "decrypted_P2 = decrypt(C2, key)  # Дешифруем второй шифротекст\n",
        "\n",
        "# Выводим расшифрованные тексты\n",
        "print(\"Дешифрованный текст P1:\", decrypted_P1)  # Выводим расшифрованный первый текст\n",
        "print(\"Дешифрованный текст P2:\", decrypted_P2)  # Выводим расшифрованный второй текст\n"
      ]
    }
  ]
}